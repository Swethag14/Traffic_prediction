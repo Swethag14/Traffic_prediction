{
 "cells": [
  {
   "cell_type": "code",
   "execution_count": 6,
   "metadata": {},
   "outputs": [
    {
     "name": "stdout",
     "output_type": "stream",
     "text": [
      "Before encoding Traffic Situation: ['low' 'normal' 'heavy' 'high']\n",
      "After encoding Traffic Situation: [2 3 0 1]\n",
      "Time                 object\n",
      "Date                  int64\n",
      "Day of the week       int32\n",
      "CarCount              int64\n",
      "BikeCount             int64\n",
      "BusCount              int64\n",
      "TruckCount            int64\n",
      "Total                 int64\n",
      "Traffic Situation     int32\n",
      "Hour                  int64\n",
      "dtype: object\n"
     ]
    },
    {
     "name": "stderr",
     "output_type": "stream",
     "text": [
      "c:\\Users\\user\\anaconda3\\Lib\\site-packages\\sklearn\\cluster\\_kmeans.py:870: FutureWarning: The default value of `n_init` will change from 10 to 'auto' in 1.4. Set the value of `n_init` explicitly to suppress the warning\n",
      "  warnings.warn(\n"
     ]
    },
    {
     "name": "stdout",
     "output_type": "stream",
     "text": [
      "Models have been trained and saved successfully.\n"
     ]
    }
   ],
   "source": [
    "import pandas as pd\n",
    "from sklearn.model_selection import train_test_split\n",
    "from sklearn.linear_model import LinearRegression\n",
    "from sklearn.ensemble import RandomForestClassifier\n",
    "from sklearn.cluster import KMeans, DBSCAN\n",
    "from sklearn.preprocessing import LabelEncoder\n",
    "import pickle\n",
    "\n",
    "# Load the dataset\n",
    "data = pd.read_csv(r'C:\\Users\\user\\Downloads\\Traffic (1).csv')\n",
    "\n",
    "# Data Preprocessing\n",
    "# Convert 'Time' column to hour of the day\n",
    "data['Hour'] = pd.to_datetime(data['Time'], format='%I:%M:%S %p').dt.hour\n",
    "\n",
    "# Convert 'Date' column to day of the year\n",
    "data['Date'] = pd.to_datetime(data['Date'], errors='coerce').dt.dayofyear\n",
    "\n",
    "# Label encode 'Day of the week' column\n",
    "data['Day of the week'] = LabelEncoder().fit_transform(data['Day of the week'])\n",
    "\n",
    "# Print unique values before and after encoding to ensure it's correct\n",
    "print(\"Before encoding Traffic Situation:\", data['Traffic Situation'].unique())\n",
    "data['Traffic Situation'] = LabelEncoder().fit_transform(data['Traffic Situation'])\n",
    "print(\"After encoding Traffic Situation:\", data['Traffic Situation'].unique())\n",
    "\n",
    "# Ensure all entries are strings before encoding (in case of mixed types)\n",
    "data['Traffic Situation'] = data['Traffic Situation'].astype(str)\n",
    "data['Traffic Situation'] = LabelEncoder().fit_transform(data['Traffic Situation'])\n",
    "\n",
    "# Check for missing values and fill them\n",
    "data = data.fillna(0)\n",
    "\n",
    "# Verify the data types\n",
    "print(data.dtypes)\n",
    "\n",
    "# Features and target\n",
    "X = data[['Hour', 'Date', 'Day of the week', 'CarCount', 'BikeCount', 'BusCount', 'TruckCount']]\n",
    "y = data['Traffic Situation'].astype(float)\n",
    "\n",
    "# Train-Test Split\n",
    "X_train, X_test, y_train, y_test = train_test_split(X, y, test_size=0.2, random_state=42)\n",
    "\n",
    "# Supervised learning model 1: Linear Regression\n",
    "lr = LinearRegression()\n",
    "lr.fit(X_train, y_train)\n",
    "\n",
    "# Supervised learning model 2: Random Forest Classifier\n",
    "rf = RandomForestClassifier(n_estimators=100, random_state=42)\n",
    "rf.fit(X_train, y_train)\n",
    "\n",
    "# Unsupervised learning model 1: KMeans\n",
    "kmeans = KMeans(n_clusters=3, random_state=42)\n",
    "kmeans.fit(X)\n",
    "\n",
    "# Unsupervised learning model 2: DBSCAN\n",
    "dbscan = DBSCAN(eps=0.5, min_samples=5)\n",
    "dbscan.fit(X)\n",
    "\n",
    "# Save models with pickle\n",
    "with open('lr_model.pkl', 'wb') as f:\n",
    "    pickle.dump(lr, f)\n",
    "\n",
    "with open('rf_model.pkl', 'wb') as f:\n",
    "    pickle.dump(rf, f)\n",
    "\n",
    "with open('kmeans_model.pkl', 'wb') as f:\n",
    "    pickle.dump(kmeans, f)\n",
    "\n",
    "with open('dbscan_model.pkl', 'wb') as f:\n",
    "    pickle.dump(dbscan, f)\n",
    "\n",
    "print(\"Models have been trained and saved successfully.\")\n",
    "\n",
    "\n"
   ]
  }
 ],
 "metadata": {
  "kernelspec": {
   "display_name": "base",
   "language": "python",
   "name": "python3"
  },
  "language_info": {
   "codemirror_mode": {
    "name": "ipython",
    "version": 3
   },
   "file_extension": ".py",
   "mimetype": "text/x-python",
   "name": "python",
   "nbconvert_exporter": "python",
   "pygments_lexer": "ipython3",
   "version": "3.11.3"
  }
 },
 "nbformat": 4,
 "nbformat_minor": 2
}
